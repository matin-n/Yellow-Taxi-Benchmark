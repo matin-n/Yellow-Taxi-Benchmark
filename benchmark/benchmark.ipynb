{
 "cells": [
  {
   "cell_type": "markdown",
   "metadata": {},
   "source": [
    "# Benchmark"
   ]
  },
  {
   "cell_type": "code",
   "execution_count": 1,
   "metadata": {},
   "outputs": [
    {
     "name": "stdout",
     "output_type": "stream",
     "text": [
      "Fri Sep 16 06:48:37 2022       \n",
      "+-----------------------------------------------------------------------------+\n",
      "| NVIDIA-SMI 525.00       Driver Version: 525.26       CUDA Version: 11.8     |\n",
      "|-------------------------------+----------------------+----------------------+\n",
      "| GPU  Name        Persistence-M| Bus-Id        Disp.A | Volatile Uncorr. ECC |\n",
      "| Fan  Temp  Perf  Pwr:Usage/Cap|         Memory-Usage | GPU-Util  Compute M. |\n",
      "|                               |                      |               MIG M. |\n",
      "|===============================+======================+======================|\n",
      "|   0  NVIDIA GeForce ...  On   | 00000000:2B:00.0  On |                  N/A |\n",
      "| 30%   49C    P0    58W / 250W |    600MiB / 11264MiB |      3%      Default |\n",
      "|                               |                      |                  N/A |\n",
      "+-------------------------------+----------------------+----------------------+\n",
      "                                                                               \n",
      "+-----------------------------------------------------------------------------+\n",
      "| Processes:                                                                  |\n",
      "|  GPU   GI   CI        PID   Type   Process name                  GPU Memory |\n",
      "|        ID   ID                                                   Usage      |\n",
      "|=============================================================================|\n",
      "|  No running processes found                                                 |\n",
      "+-----------------------------------------------------------------------------+\n"
     ]
    }
   ],
   "source": [
    "!nvidia-smi"
   ]
  },
  {
   "cell_type": "markdown",
   "metadata": {},
   "source": [
    "## Download Dataset"
   ]
  },
  {
   "cell_type": "code",
   "execution_count": 2,
   "metadata": {},
   "outputs": [],
   "source": [
    "import requests\n",
    "import pathlib\n",
    "import cudf\n",
    "import pandas as pd\n",
    "import time"
   ]
  },
  {
   "cell_type": "code",
   "execution_count": 3,
   "metadata": {},
   "outputs": [],
   "source": [
    "year = \"2021\"\n",
    "directory = f\"data/{year}/\""
   ]
  },
  {
   "cell_type": "code",
   "execution_count": 4,
   "metadata": {},
   "outputs": [],
   "source": [
    "def download_files(year, download_directory):\n",
    "\n",
    "    # Make directory if it does not exist\n",
    "    pathlib.Path(download_directory).mkdir(parents=True, exist_ok=True)\n",
    "\n",
    "    # Download yellow taxi data\n",
    "    # Data from: https://www1.nyc.gov/site/tlc/about/tlc-trip-record-data.page\n",
    "    url = \"https://d37ci6vzurychx.cloudfront.net/trip-data/\"\n",
    "    files = [f\"yellow_tripdata_{year}-{n:02d}.parquet\" for n in range(1, 13)]\n",
    "    for file in files:\n",
    "        r = requests.get(f\"{url}{file}\", allow_redirects=True)\n",
    "        with open(f\"{download_directory}/{file}\", \"wb\") as f:\n",
    "            f.write(r.content)\n",
    "\n",
    "    print(\"Finished downloading files...\")\n",
    "\n",
    "# uncomment to download files\n",
    "# download_files(year, directory)"
   ]
  },
  {
   "cell_type": "markdown",
   "metadata": {},
   "source": [
    "## RAPIDS cudf vs pandas"
   ]
  },
  {
   "cell_type": "markdown",
   "metadata": {},
   "source": [
    "## cudf"
   ]
  },
  {
   "cell_type": "code",
   "execution_count": 5,
   "metadata": {},
   "outputs": [
    {
     "name": "stdout",
     "output_type": "stream",
     "text": [
      "CPU times: user 1.18 s, sys: 302 ms, total: 1.48 s\n",
      "Wall time: 1.62 s\n"
     ]
    }
   ],
   "source": [
    "%%time\n",
    "\n",
    "rapids_df = cudf.read_parquet(directory)"
   ]
  },
  {
   "cell_type": "code",
   "execution_count": 6,
   "metadata": {},
   "outputs": [
    {
     "name": "stdout",
     "output_type": "stream",
     "text": [
      "CPU times: user 575 ms, sys: 79.3 ms, total: 654 ms\n",
      "Wall time: 799 ms\n"
     ]
    }
   ],
   "source": [
    "%%time\n",
    "\n",
    "rapids_df = rapids_df.query(\n",
    "    \"fare_amount > 0 and tip_amount > 0 and passenger_count > 0 and trip_distance != 0\"\n",
    ")\n",
    "rapids_df[\"tip_percentage\"] = rapids_df[\"tip_amount\"] / rapids_df[\"fare_amount\"]\n",
    "rapids_df[\"pickup_hour\"] = rapids_df[\"tpep_pickup_datetime\"].dt.hour\n",
    "hours = rapids_df.groupby(\"pickup_hour\", sort=True)[\"tip_percentage\"].mean()\n"
   ]
  },
  {
   "cell_type": "markdown",
   "metadata": {},
   "source": [
    "## Pandas"
   ]
  },
  {
   "cell_type": "code",
   "execution_count": 7,
   "metadata": {},
   "outputs": [
    {
     "name": "stdout",
     "output_type": "stream",
     "text": [
      "CPU times: user 13.3 s, sys: 11.7 s, total: 25.1 s\n",
      "Wall time: 2.78 s\n"
     ]
    }
   ],
   "source": [
    "%%time\n",
    "\n",
    "pandas_df = pd.read_parquet(directory)"
   ]
  },
  {
   "cell_type": "code",
   "execution_count": 8,
   "metadata": {},
   "outputs": [
    {
     "name": "stdout",
     "output_type": "stream",
     "text": [
      "CPU times: user 3.2 s, sys: 1.23 s, total: 4.43 s\n",
      "Wall time: 4.34 s\n"
     ]
    }
   ],
   "source": [
    "%%time\n",
    "\n",
    "pandas_df = pandas_df.query(\n",
    "    \"fare_amount > 0 and tip_amount > 0 and passenger_count > 0 and trip_distance != 0\"\n",
    ")\n",
    "pandas_df[\"tip_percentage\"] = pandas_df[\"tip_amount\"] / pandas_df[\"fare_amount\"]\n",
    "pandas_df[\"pickup_hour\"] = pandas_df[\"tpep_pickup_datetime\"].dt.hour\n",
    "hours = pandas_df.groupby(\"passenger_count\", sort=True)[\"tip_percentage\"].mean()\n"
   ]
  }
 ],
 "metadata": {
  "kernelspec": {
   "display_name": "Python 3.9.13 ('rapids')",
   "language": "python",
   "name": "python3"
  },
  "language_info": {
   "codemirror_mode": {
    "name": "ipython",
    "version": 3
   },
   "file_extension": ".py",
   "mimetype": "text/x-python",
   "name": "python",
   "nbconvert_exporter": "python",
   "pygments_lexer": "ipython3",
   "version": "3.9.13"
  },
  "orig_nbformat": 4,
  "vscode": {
   "interpreter": {
    "hash": "f708a36acfaef0acf74ccd43dfb58100269bf08fb79032a1e0a6f35bd9856f51"
   }
  }
 },
 "nbformat": 4,
 "nbformat_minor": 2
}
